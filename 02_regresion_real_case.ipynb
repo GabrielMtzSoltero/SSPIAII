{
  "nbformat": 4,
  "nbformat_minor": 0,
  "metadata": {
    "colab": {
      "provenance": [],
      "mount_file_id": "1vCQj4No-G9nox2wG9n-125n-AEX99yoj",
      "authorship_tag": "ABX9TyMDz1yH/qAt1eiZpAMvZNdB",
      "include_colab_link": true
    },
    "kernelspec": {
      "name": "python3",
      "display_name": "Python 3"
    },
    "language_info": {
      "name": "python"
    }
  },
  "cells": [
    {
      "cell_type": "markdown",
      "metadata": {
        "id": "view-in-github",
        "colab_type": "text"
      },
      "source": [
        "<a href=\"https://colab.research.google.com/github/GabrielMtzSoltero/SSPIAII/blob/main/02_regresion_real_case.ipynb\" target=\"_parent\"><img src=\"https://colab.research.google.com/assets/colab-badge.svg\" alt=\"Open In Colab\"/></a>"
      ]
    },
    {
      "cell_type": "code",
      "execution_count": 2,
      "metadata": {
        "colab": {
          "base_uri": "https://localhost:8080/"
        },
        "id": "s2hgjJEaOwzz",
        "outputId": "5caa6770-438e-4277-cd3d-be36303e1c48"
      },
      "outputs": [
        {
          "output_type": "stream",
          "name": "stdout",
          "text": [
            "<class 'pandas.core.frame.DataFrame'>\n",
            "RangeIndex: 1338 entries, 0 to 1337\n",
            "Data columns (total 7 columns):\n",
            " #   Column    Non-Null Count  Dtype  \n",
            "---  ------    --------------  -----  \n",
            " 0   age       1338 non-null   int64  \n",
            " 1   sex       1338 non-null   object \n",
            " 2   bmi       1338 non-null   float64\n",
            " 3   children  1338 non-null   int64  \n",
            " 4   smoker    1338 non-null   object \n",
            " 5   region    1338 non-null   object \n",
            " 6   charges   1338 non-null   float64\n",
            "dtypes: float64(2), int64(2), object(3)\n",
            "memory usage: 73.3+ KB\n",
            "None\n",
            "-------\n",
            "               age          bmi     children       charges\n",
            "count  1338.000000  1338.000000  1338.000000   1338.000000\n",
            "mean     39.207025    30.663397     1.094918  13270.422265\n",
            "std      14.049960     6.098187     1.205493  12110.011237\n",
            "min      18.000000    15.960000     0.000000   1121.873900\n",
            "25%      27.000000    26.296250     0.000000   4740.287150\n",
            "50%      39.000000    30.400000     1.000000   9382.033000\n",
            "75%      51.000000    34.693750     2.000000  16639.912515\n",
            "max      64.000000    53.130000     5.000000  63770.428010\n",
            "-------\n",
            "   age     sex     bmi  children smoker     region      charges\n",
            "0   19  female  27.900         0    yes  southwest  16884.92400\n",
            "1   18    male  33.770         1     no  southeast   1725.55230\n",
            "2   28    male  33.000         3     no  southeast   4449.46200\n",
            "3   33    male  22.705         0     no  northwest  21984.47061\n",
            "4   32    male  28.880         0     no  northwest   3866.85520\n",
            "0.7448104867740117\n",
            "0.758775200245427\n"
          ]
        }
      ],
      "source": [
        "import pandas as pd\n",
        "import numpy as np\n",
        "from sklearn import metrics\n",
        "import matplotlib.pyplot as plt\n",
        "from sklearn.preprocessing import PolynomialFeatures\n",
        "from sklearn.linear_model import LinearRegression\n",
        "from sklearn.model_selection import train_test_split\n",
        "df=pd.read_csv('gastosmedicos.csv')\n",
        "#nos dice las columnas ,cuantos, tipo de dato\n",
        "print(df.info())\n",
        "#datos estadisticos\n",
        "print(\"-------\")\n",
        "print(df.describe())\n",
        "print(\"-------\")\n",
        "#las primeras filas\n",
        "print(df.head())\n",
        "\n",
        "\n",
        "#convertir categoricos a numeros porque pues no le puedo meter 'male' o 'female'\n",
        "df['sex'].replace(to_replace='male', value=1, inplace=True)\n",
        "df['sex'].replace(to_replace='female', value=2, inplace=True)\n",
        "\n",
        "df['smoker'].replace(to_replace='yes', value=1, inplace=True)\n",
        "df['smoker'].replace(to_replace='no', value=2, inplace=True)\n",
        "\n",
        "\n",
        "df['region'].replace(to_replace='southwest', value=4, inplace=True)\n",
        "df['region'].replace(to_replace='southeast', value=1, inplace=True)\n",
        "df['region'].replace(to_replace='northwest', value=2, inplace=True)\n",
        "df['region'].replace(to_replace='northeast', value=3, inplace=True)\n",
        "\n",
        "X=df.drop(columns=['charges'])\n",
        "y=df['charges']\n",
        "X_train, X_test, y_train, y_test = train_test_split(X, y, test_size=0.33, random_state=42)\n",
        "model=LinearRegression()\n",
        "model.fit(X_train,y_train)\n",
        "\n",
        "\n",
        "\n",
        "score=model.score(X_train,y_train)\n",
        "print(score)\n",
        "score=model.score(X_test,y_test)\n",
        "print(score)"
      ]
    },
    {
      "cell_type": "code",
      "source": [
        "pwd"
      ],
      "metadata": {
        "colab": {
          "base_uri": "https://localhost:8080/",
          "height": 35
        },
        "id": "-Cbnm-45PlAQ",
        "outputId": "dcaf282e-33cd-4c91-dec3-24a02924dafa"
      },
      "execution_count": 1,
      "outputs": [
        {
          "output_type": "execute_result",
          "data": {
            "text/plain": [
              "'/content'"
            ],
            "application/vnd.google.colaboratory.intrinsic+json": {
              "type": "string"
            }
          },
          "metadata": {},
          "execution_count": 1
        }
      ]
    }
  ]
}